{
 "cells": [
  {
   "cell_type": "markdown",
   "metadata": {},
   "source": [
    "# A Network Graph for VCs and Angels\n",
    "\n",
    "This notebook looks to give insight into some basics of <b>social network analysis</b>. <i>Social network analysis examines the structure of relationships between social entities. These entities are often persons, but may also be groups, organizations, nation states, web sites, or scholarly publications.</i>\n",
    "\n",
    "<b>The notebook will cover some simple social network analysis regarding the start up scene</b>. If you follow tech, you know some schools look like incubators at times; Stanford, MIT, etc. Is this due to the fact that VCs and Angels are alumni of these schools, and either starups or VCs are leveraging their network, which is why so many startups are connected to these schools. Possibly. This question is at the heart of this notebook's analysis, and this notebook will not answer this question but rather start showing some tools that can help if one decides to try.\n",
    "\n",
    "The notebook will mostly use tools from: SFrame (graphlab-create), networkx, and numpy.\n",
    "One could use Panda instead of SFrame. \n",
    "All data is publically available and will be from Techcrunch. Also, this notebook will show only subsets of the data at time for some of the analysis."
   ]
  },
  {
   "cell_type": "markdown",
   "metadata": {},
   "source": [
    "## Importing the data\n",
    "\n",
    "The data was downloaded from techcrunch, and is in json format. The overall idea is to see if VCs or angels are connected to the startups they gave money to by schools they attended. Simply, are the VCs and angels alumni of the same schools as the startup founders. There are a four json files. One for founders and their education, one for vc firms and their education, one for people (angels) and their education, and one showing investments between groups. \n",
    "\n",
    "Below, the data will be imported into SFrames, cleaned, and joined to make a table holding the connections between investors and investees. Then we will create a new table that only has "
   ]
  },
  {
   "cell_type": "code",
   "execution_count": 1,
   "metadata": {
    "collapsed": false
   },
   "outputs": [
    {
     "name": "stderr",
     "output_type": "stream",
     "text": [
      "[INFO] graphlab.cython.cy_server: GraphLab Create v1.10.1 started. Logging: /tmp/graphlab_server_1466636207.log\n"
     ]
    },
    {
     "name": "stdout",
     "output_type": "stream",
     "text": [
      "This non-commercial license of GraphLab Create is assigned to Skorupry@uw.edu and will expire on December 17, 2016. For commercial licensing options, visit https://dato.com/buy/.\n"
     ]
    },
    {
     "data": {
      "text/html": [
       "<pre>Finished parsing file /home/ryan/Portfolio/KnowGraph/companies_person_educ.json</pre>"
      ],
      "text/plain": [
       "Finished parsing file /home/ryan/Portfolio/KnowGraph/companies_person_educ.json"
      ]
     },
     "metadata": {},
     "output_type": "display_data"
    },
    {
     "data": {
      "text/html": [
       "<pre>Parsing completed. Parsed 1 lines in 2.51325 secs.</pre>"
      ],
      "text/plain": [
       "Parsing completed. Parsed 1 lines in 2.51325 secs."
      ]
     },
     "metadata": {},
     "output_type": "display_data"
    },
    {
     "data": {
      "text/html": [
       "<pre>Finished parsing file /home/ryan/Portfolio/KnowGraph/degreematching.csv</pre>"
      ],
      "text/plain": [
       "Finished parsing file /home/ryan/Portfolio/KnowGraph/degreematching.csv"
      ]
     },
     "metadata": {},
     "output_type": "display_data"
    },
    {
     "data": {
      "text/html": [
       "<pre>Parsing completed. Parsed 100 lines in 0.016361 secs.</pre>"
      ],
      "text/plain": [
       "Parsing completed. Parsed 100 lines in 0.016361 secs."
      ]
     },
     "metadata": {},
     "output_type": "display_data"
    },
    {
     "name": "stdout",
     "output_type": "stream",
     "text": [
      "------------------------------------------------------\n",
      "Inferred types from first 100 line(s) of file as \n",
      "column_type_hints=[str,str,str,str]\n",
      "If parsing fails due to incorrect types, you can correct\n",
      "the inferred type list above and pass it to read_csv in\n",
      "the column_type_hints argument\n",
      "------------------------------------------------------\n"
     ]
    },
    {
     "data": {
      "text/html": [
       "<pre>Finished parsing file /home/ryan/Portfolio/KnowGraph/degreematching.csv</pre>"
      ],
      "text/plain": [
       "Finished parsing file /home/ryan/Portfolio/KnowGraph/degreematching.csv"
      ]
     },
     "metadata": {},
     "output_type": "display_data"
    },
    {
     "data": {
      "text/html": [
       "<pre>Parsing completed. Parsed 17710 lines in 0.014712 secs.</pre>"
      ],
      "text/plain": [
       "Parsing completed. Parsed 17710 lines in 0.014712 secs."
      ]
     },
     "metadata": {},
     "output_type": "display_data"
    },
    {
     "data": {
      "text/html": [
       "<pre>Finished parsing file /home/ryan/Portfolio/KnowGraph/finorgs_person_educ.json</pre>"
      ],
      "text/plain": [
       "Finished parsing file /home/ryan/Portfolio/KnowGraph/finorgs_person_educ.json"
      ]
     },
     "metadata": {},
     "output_type": "display_data"
    },
    {
     "data": {
      "text/html": [
       "<pre>Parsing completed. Parsed 1 lines in 0.375487 secs.</pre>"
      ],
      "text/plain": [
       "Parsing completed. Parsed 1 lines in 0.375487 secs."
      ]
     },
     "metadata": {},
     "output_type": "display_data"
    },
    {
     "data": {
      "text/html": [
       "<pre>Finished parsing file /home/ryan/Portfolio/KnowGraph/investments.json</pre>"
      ],
      "text/plain": [
       "Finished parsing file /home/ryan/Portfolio/KnowGraph/investments.json"
      ]
     },
     "metadata": {},
     "output_type": "display_data"
    },
    {
     "data": {
      "text/html": [
       "<pre>Parsing completed. Parsed 1 lines in 0.468361 secs.</pre>"
      ],
      "text/plain": [
       "Parsing completed. Parsed 1 lines in 0.468361 secs."
      ]
     },
     "metadata": {},
     "output_type": "display_data"
    },
    {
     "data": {
      "text/html": [
       "<pre>Finished parsing file /home/ryan/Portfolio/KnowGraph/persons_educ.json</pre>"
      ],
      "text/plain": [
       "Finished parsing file /home/ryan/Portfolio/KnowGraph/persons_educ.json"
      ]
     },
     "metadata": {},
     "output_type": "display_data"
    },
    {
     "data": {
      "text/html": [
       "<pre>Parsing completed. Parsed 1 lines in 0.779809 secs.</pre>"
      ],
      "text/plain": [
       "Parsing completed. Parsed 1 lines in 0.779809 secs."
      ]
     },
     "metadata": {},
     "output_type": "display_data"
    }
   ],
   "source": [
    "import graphlab as gl\n",
    "import numpy as np\n",
    "\n",
    "#read in education of firms from json\n",
    "sf=gl.SFrame.read_json('companies_person_educ.json', orient='records')\n",
    "\n",
    "#remove useless columns\n",
    "sf=sf.remove_columns(['company_name', 'degree_type','graduated_at', 'person_name', 'title'])\n",
    "sf['institution']=sf['institution'].apply(lambda x: x.lower())\n",
    "\n",
    "#fix university with ids\n",
    "un=gl.SFrame.read_csv('degreematching.csv')\n",
    "#drop inst useless columns\n",
    "un=un.remove_columns(['line', 'inst_name'])\n",
    "#make lower for matching purposes\n",
    "un['institution']=un['institution'].apply(lambda x: x.lower())\n",
    "\n",
    "#match school names\n",
    "sf=sf.join(un, on='institution', how='left')\n",
    "\n",
    "#drop useless col\n",
    "sf=sf.remove_column('institution')\n",
    "\n",
    "#unstack on institution\n",
    "sf=sf.unstack('inst_id', new_column_name='schools_id')\n",
    "\n",
    "# read in ed of vc from json\n",
    "vc=gl.SFrame.read_json('finorgs_person_educ.json', orient='records')\n",
    "\n",
    "#remove useless columns\n",
    "vc=vc.remove_columns(['finorgs_name', 'degree_type','graduated_at', 'person_name', 'title'])\n",
    "\n",
    "#\n",
    "vc['institution']=vc['institution'].apply(lambda x: x.lower())\n",
    "\n",
    "#match school names\n",
    "vc=vc.join(un, on='institution', how='left')\n",
    "\n",
    "#\n",
    "vc=vc.remove_column('institution')\n",
    "\n",
    "\n",
    "#unstack on institution\n",
    "vc=vc.unstack('inst_id', new_column_name='schools_id')\n",
    "\n",
    "#read in connection from vc to firms\n",
    "invest=gl.SFrame.read_json('investments.json', orient='records')\n",
    "\n",
    "#remove useless columns\n",
    "invest=invest.remove_columns(['created_at', 'id','funding_round_id', 'updated_at'])\n",
    "\n",
    "#remove duplicates\n",
    "invest=invest.unique()\n",
    "\n",
    "#rename invest titles\n",
    "invest=invest.rename({'funded_object_id':'company_id', 'investor_object_id': 'finorgs_id'})\n",
    "\n",
    "#clean angel info\n",
    "angels=gl.SFrame.read_json('persons_educ.json', orient='records')\n",
    "angels.remove_columns(['created_at','degree_type','graduated_at','id','subject','updated_at'])\n",
    "angels['institution']=angels['institution'].apply(lambda x: x.lower())\n",
    "angels=angels.join(un, on='institution', how='left')\n",
    "angels=angels.dropna()\n",
    "angels['inst_id']=angels['inst_id'].apply(lambda x: None if x=='' else x)\n",
    "angels=angels.dropna()\n",
    "\n",
    "angels.remove_column('institution')\n",
    "angels=angels.unstack('inst_id', new_column_name='schools_id')\n",
    "angels['schools_id']=angels['schools_id'].apply(lambda x: np.unique(x))\n",
    "\n",
    "#filter p,c,f\n",
    "invest['test']=invest['finorgs_id'].apply(lambda x: x[0])\n",
    "t=invest.filter_by('c','test')\n",
    "t.remove_column('test')\n",
    "tp=invest.filter_by('p','test')\n",
    "tp.remove_column('test')\n",
    "tf=invest.filter_by('f','test')\n",
    "tf.remove_column('test')\n",
    "\n",
    "#joins\n",
    "sf1=sf.sort('company_id')\n",
    "sf1=sf1.rename({'company_id':'finorgs_id'})\n",
    "angels1=angels.sort('object_id')\n",
    "angels1=angels1.rename({'object_id':'finorgs_id'})\n",
    "\n",
    "tp=tp.join(angels1,on='finorgs_id', how='left')\n",
    "tp['person_id']=tp['finorgs_id']\n",
    "t=t.join(sf1,on='finorgs_id', how='left')\n",
    "tf=tf.join(vc,on='finorgs_id', how='left')\n",
    "\n",
    "rightside=t.append(tp)\n",
    "rightside=rightside.append(tf)\n",
    "rightside=rightside.rename({'schools_id': 'schools_of_vcs','person_id':'vc_ids'})\n",
    "\n",
    "total=rightside.join(sf, on='company_id', how='left')\n",
    "\n",
    "\n",
    "#rename sf columns\n",
    "total=total.rename({'schools_id': 'schools_of_founders', 'person_id':'founder_ids'})\n",
    "\n",
    "#strip duplicates\n",
    "total['schools_of_vcs']=total['schools_of_vcs'].apply(lambda x: np.unique(x))\n",
    "total['schools_of_founders']=total['schools_of_founders'].apply(lambda x: np.unique(x))\n",
    "\n",
    "total=total.dropna()\n",
    "\n",
    "#clean func\n",
    "def clean_arr( arrlist):\n",
    "    arr=[]\n",
    "    x=list(set(arrlist))\n",
    "    for xx in x:\n",
    "\tif len(xx)>1:\n",
    "\t    arr.append(xx)\n",
    "    return arr\n",
    "\n",
    "#use clean function\n",
    "total['schools_of_founders']=total['schools_of_founders'].apply(lambda x: clean_arr(x))\n",
    "\n",
    "total['schools_of_vcs']=total['schools_of_vcs'].apply(lambda x: clean_arr(x))\n",
    "\n",
    "def intersect(a, b):\n",
    "    return list(set(a) & set(b))\n",
    "\n",
    "#drop None\n",
    "total=total.dropna()\n",
    "\n",
    "#make connections\n",
    "total['connected_by_schools']=total.apply(lambda x: intersect( x['schools_of_founders'], x['schools_of_vcs']))\n",
    "\n",
    "#count contections between ind\n",
    "total['number_of_same_schools']=total['connected_by_schools'].apply(lambda x: len(x))"
   ]
  },
  {
   "cell_type": "code",
   "execution_count": 2,
   "metadata": {
    "collapsed": false
   },
   "outputs": [
    {
     "data": {
      "text/html": [
       "<div style=\"max-height:1000px;max-width:1500px;overflow:auto;\"><table frame=\"box\" rules=\"cols\">\n",
       "    <tr>\n",
       "        <th style=\"padding-left: 1em; padding-right: 1em; text-align: center\">company_id</th>\n",
       "        <th style=\"padding-left: 1em; padding-right: 1em; text-align: center\">finorgs_id</th>\n",
       "        <th style=\"padding-left: 1em; padding-right: 1em; text-align: center\">vc_ids</th>\n",
       "        <th style=\"padding-left: 1em; padding-right: 1em; text-align: center\">schools_of_vcs</th>\n",
       "        <th style=\"padding-left: 1em; padding-right: 1em; text-align: center\">founder_ids</th>\n",
       "        <th style=\"padding-left: 1em; padding-right: 1em; text-align: center\">schools_of_founders</th>\n",
       "        <th style=\"padding-left: 1em; padding-right: 1em; text-align: center\">connected_by_schools</th>\n",
       "        <th style=\"padding-left: 1em; padding-right: 1em; text-align: center\">number_of_same_schools</th>\n",
       "    </tr>\n",
       "    <tr>\n",
       "        <td style=\"padding-left: 1em; padding-right: 1em; text-align: center; vertical-align: top\">c:29150</td>\n",
       "        <td style=\"padding-left: 1em; padding-right: 1em; text-align: center; vertical-align: top\">c:10022</td>\n",
       "        <td style=\"padding-left: 1em; padding-right: 1em; text-align: center; vertical-align: top\">p:48956</td>\n",
       "        <td style=\"padding-left: 1em; padding-right: 1em; text-align: center; vertical-align: top\">[15231]</td>\n",
       "        <td style=\"padding-left: 1em; padding-right: 1em; text-align: center; vertical-align: top\">p:69068</td>\n",
       "        <td style=\"padding-left: 1em; padding-right: 1em; text-align: center; vertical-align: top\">[13614]</td>\n",
       "        <td style=\"padding-left: 1em; padding-right: 1em; text-align: center; vertical-align: top\">[]</td>\n",
       "        <td style=\"padding-left: 1em; padding-right: 1em; text-align: center; vertical-align: top\">0</td>\n",
       "    </tr>\n",
       "    <tr>\n",
       "        <td style=\"padding-left: 1em; padding-right: 1em; text-align: center; vertical-align: top\">c:29150</td>\n",
       "        <td style=\"padding-left: 1em; padding-right: 1em; text-align: center; vertical-align: top\">c:10022</td>\n",
       "        <td style=\"padding-left: 1em; padding-right: 1em; text-align: center; vertical-align: top\">p:48956</td>\n",
       "        <td style=\"padding-left: 1em; padding-right: 1em; text-align: center; vertical-align: top\">[15231]</td>\n",
       "        <td style=\"padding-left: 1em; padding-right: 1em; text-align: center; vertical-align: top\">p:117930</td>\n",
       "        <td style=\"padding-left: 1em; padding-right: 1em; text-align: center; vertical-align: top\">[14557]</td>\n",
       "        <td style=\"padding-left: 1em; padding-right: 1em; text-align: center; vertical-align: top\">[]</td>\n",
       "        <td style=\"padding-left: 1em; padding-right: 1em; text-align: center; vertical-align: top\">0</td>\n",
       "    </tr>\n",
       "    <tr>\n",
       "        <td style=\"padding-left: 1em; padding-right: 1em; text-align: center; vertical-align: top\">c:29150</td>\n",
       "        <td style=\"padding-left: 1em; padding-right: 1em; text-align: center; vertical-align: top\">c:10022</td>\n",
       "        <td style=\"padding-left: 1em; padding-right: 1em; text-align: center; vertical-align: top\">p:177084</td>\n",
       "        <td style=\"padding-left: 1em; padding-right: 1em; text-align: center; vertical-align: top\">[15231]</td>\n",
       "        <td style=\"padding-left: 1em; padding-right: 1em; text-align: center; vertical-align: top\">p:69068</td>\n",
       "        <td style=\"padding-left: 1em; padding-right: 1em; text-align: center; vertical-align: top\">[13614]</td>\n",
       "        <td style=\"padding-left: 1em; padding-right: 1em; text-align: center; vertical-align: top\">[]</td>\n",
       "        <td style=\"padding-left: 1em; padding-right: 1em; text-align: center; vertical-align: top\">0</td>\n",
       "    </tr>\n",
       "    <tr>\n",
       "        <td style=\"padding-left: 1em; padding-right: 1em; text-align: center; vertical-align: top\">c:29150</td>\n",
       "        <td style=\"padding-left: 1em; padding-right: 1em; text-align: center; vertical-align: top\">c:10022</td>\n",
       "        <td style=\"padding-left: 1em; padding-right: 1em; text-align: center; vertical-align: top\">p:177084</td>\n",
       "        <td style=\"padding-left: 1em; padding-right: 1em; text-align: center; vertical-align: top\">[15231]</td>\n",
       "        <td style=\"padding-left: 1em; padding-right: 1em; text-align: center; vertical-align: top\">p:117930</td>\n",
       "        <td style=\"padding-left: 1em; padding-right: 1em; text-align: center; vertical-align: top\">[14557]</td>\n",
       "        <td style=\"padding-left: 1em; padding-right: 1em; text-align: center; vertical-align: top\">[]</td>\n",
       "        <td style=\"padding-left: 1em; padding-right: 1em; text-align: center; vertical-align: top\">0</td>\n",
       "    </tr>\n",
       "    <tr>\n",
       "        <td style=\"padding-left: 1em; padding-right: 1em; text-align: center; vertical-align: top\">c:29150</td>\n",
       "        <td style=\"padding-left: 1em; padding-right: 1em; text-align: center; vertical-align: top\">c:10022</td>\n",
       "        <td style=\"padding-left: 1em; padding-right: 1em; text-align: center; vertical-align: top\">p:166859</td>\n",
       "        <td style=\"padding-left: 1em; padding-right: 1em; text-align: center; vertical-align: top\">[14147]</td>\n",
       "        <td style=\"padding-left: 1em; padding-right: 1em; text-align: center; vertical-align: top\">p:69068</td>\n",
       "        <td style=\"padding-left: 1em; padding-right: 1em; text-align: center; vertical-align: top\">[13614]</td>\n",
       "        <td style=\"padding-left: 1em; padding-right: 1em; text-align: center; vertical-align: top\">[]</td>\n",
       "        <td style=\"padding-left: 1em; padding-right: 1em; text-align: center; vertical-align: top\">0</td>\n",
       "    </tr>\n",
       "    <tr>\n",
       "        <td style=\"padding-left: 1em; padding-right: 1em; text-align: center; vertical-align: top\">c:29150</td>\n",
       "        <td style=\"padding-left: 1em; padding-right: 1em; text-align: center; vertical-align: top\">c:10022</td>\n",
       "        <td style=\"padding-left: 1em; padding-right: 1em; text-align: center; vertical-align: top\">p:166859</td>\n",
       "        <td style=\"padding-left: 1em; padding-right: 1em; text-align: center; vertical-align: top\">[14147]</td>\n",
       "        <td style=\"padding-left: 1em; padding-right: 1em; text-align: center; vertical-align: top\">p:117930</td>\n",
       "        <td style=\"padding-left: 1em; padding-right: 1em; text-align: center; vertical-align: top\">[14557]</td>\n",
       "        <td style=\"padding-left: 1em; padding-right: 1em; text-align: center; vertical-align: top\">[]</td>\n",
       "        <td style=\"padding-left: 1em; padding-right: 1em; text-align: center; vertical-align: top\">0</td>\n",
       "    </tr>\n",
       "    <tr>\n",
       "        <td style=\"padding-left: 1em; padding-right: 1em; text-align: center; vertical-align: top\">c:17957</td>\n",
       "        <td style=\"padding-left: 1em; padding-right: 1em; text-align: center; vertical-align: top\">c:10071</td>\n",
       "        <td style=\"padding-left: 1em; padding-right: 1em; text-align: center; vertical-align: top\">p:17001</td>\n",
       "        <td style=\"padding-left: 1em; padding-right: 1em; text-align: center; vertical-align: top\">[]</td>\n",
       "        <td style=\"padding-left: 1em; padding-right: 1em; text-align: center; vertical-align: top\">p:256683</td>\n",
       "        <td style=\"padding-left: 1em; padding-right: 1em; text-align: center; vertical-align: top\">[]</td>\n",
       "        <td style=\"padding-left: 1em; padding-right: 1em; text-align: center; vertical-align: top\">[]</td>\n",
       "        <td style=\"padding-left: 1em; padding-right: 1em; text-align: center; vertical-align: top\">0</td>\n",
       "    </tr>\n",
       "    <tr>\n",
       "        <td style=\"padding-left: 1em; padding-right: 1em; text-align: center; vertical-align: top\">c:17957</td>\n",
       "        <td style=\"padding-left: 1em; padding-right: 1em; text-align: center; vertical-align: top\">c:10071</td>\n",
       "        <td style=\"padding-left: 1em; padding-right: 1em; text-align: center; vertical-align: top\">p:17001</td>\n",
       "        <td style=\"padding-left: 1em; padding-right: 1em; text-align: center; vertical-align: top\">[]</td>\n",
       "        <td style=\"padding-left: 1em; padding-right: 1em; text-align: center; vertical-align: top\">p:256682</td>\n",
       "        <td style=\"padding-left: 1em; padding-right: 1em; text-align: center; vertical-align: top\">[15865]</td>\n",
       "        <td style=\"padding-left: 1em; padding-right: 1em; text-align: center; vertical-align: top\">[]</td>\n",
       "        <td style=\"padding-left: 1em; padding-right: 1em; text-align: center; vertical-align: top\">0</td>\n",
       "    </tr>\n",
       "    <tr>\n",
       "        <td style=\"padding-left: 1em; padding-right: 1em; text-align: center; vertical-align: top\">c:17957</td>\n",
       "        <td style=\"padding-left: 1em; padding-right: 1em; text-align: center; vertical-align: top\">c:10071</td>\n",
       "        <td style=\"padding-left: 1em; padding-right: 1em; text-align: center; vertical-align: top\">p:17001</td>\n",
       "        <td style=\"padding-left: 1em; padding-right: 1em; text-align: center; vertical-align: top\">[]</td>\n",
       "        <td style=\"padding-left: 1em; padding-right: 1em; text-align: center; vertical-align: top\">p:256681</td>\n",
       "        <td style=\"padding-left: 1em; padding-right: 1em; text-align: center; vertical-align: top\">[]</td>\n",
       "        <td style=\"padding-left: 1em; padding-right: 1em; text-align: center; vertical-align: top\">[]</td>\n",
       "        <td style=\"padding-left: 1em; padding-right: 1em; text-align: center; vertical-align: top\">0</td>\n",
       "    </tr>\n",
       "    <tr>\n",
       "        <td style=\"padding-left: 1em; padding-right: 1em; text-align: center; vertical-align: top\">c:17957</td>\n",
       "        <td style=\"padding-left: 1em; padding-right: 1em; text-align: center; vertical-align: top\">c:10071</td>\n",
       "        <td style=\"padding-left: 1em; padding-right: 1em; text-align: center; vertical-align: top\">p:17001</td>\n",
       "        <td style=\"padding-left: 1em; padding-right: 1em; text-align: center; vertical-align: top\">[]</td>\n",
       "        <td style=\"padding-left: 1em; padding-right: 1em; text-align: center; vertical-align: top\">p:256684</td>\n",
       "        <td style=\"padding-left: 1em; padding-right: 1em; text-align: center; vertical-align: top\">[]</td>\n",
       "        <td style=\"padding-left: 1em; padding-right: 1em; text-align: center; vertical-align: top\">[]</td>\n",
       "        <td style=\"padding-left: 1em; padding-right: 1em; text-align: center; vertical-align: top\">0</td>\n",
       "    </tr>\n",
       "</table>\n",
       "[10 rows x 8 columns]<br/>\n",
       "</div>"
      ],
      "text/plain": [
       "Columns:\n",
       "\tcompany_id\tstr\n",
       "\tfinorgs_id\tstr\n",
       "\tvc_ids\tstr\n",
       "\tschools_of_vcs\tlist\n",
       "\tfounder_ids\tstr\n",
       "\tschools_of_founders\tlist\n",
       "\tconnected_by_schools\tlist\n",
       "\tnumber_of_same_schools\tint\n",
       "\n",
       "Rows: 10\n",
       "\n",
       "Data:\n",
       "+------------+------------+----------+----------------+-------------+---------------------+\n",
       "| company_id | finorgs_id |  vc_ids  | schools_of_vcs | founder_ids | schools_of_founders |\n",
       "+------------+------------+----------+----------------+-------------+---------------------+\n",
       "|  c:29150   |  c:10022   | p:48956  |    [15231]     |   p:69068   |       [13614]       |\n",
       "|  c:29150   |  c:10022   | p:48956  |    [15231]     |   p:117930  |       [14557]       |\n",
       "|  c:29150   |  c:10022   | p:177084 |    [15231]     |   p:69068   |       [13614]       |\n",
       "|  c:29150   |  c:10022   | p:177084 |    [15231]     |   p:117930  |       [14557]       |\n",
       "|  c:29150   |  c:10022   | p:166859 |    [14147]     |   p:69068   |       [13614]       |\n",
       "|  c:29150   |  c:10022   | p:166859 |    [14147]     |   p:117930  |       [14557]       |\n",
       "|  c:17957   |  c:10071   | p:17001  |       []       |   p:256683  |          []         |\n",
       "|  c:17957   |  c:10071   | p:17001  |       []       |   p:256682  |       [15865]       |\n",
       "|  c:17957   |  c:10071   | p:17001  |       []       |   p:256681  |          []         |\n",
       "|  c:17957   |  c:10071   | p:17001  |       []       |   p:256684  |          []         |\n",
       "+------------+------------+----------+----------------+-------------+---------------------+\n",
       "+----------------------+------------------------+\n",
       "| connected_by_schools | number_of_same_schools |\n",
       "+----------------------+------------------------+\n",
       "|          []          |           0            |\n",
       "|          []          |           0            |\n",
       "|          []          |           0            |\n",
       "|          []          |           0            |\n",
       "|          []          |           0            |\n",
       "|          []          |           0            |\n",
       "|          []          |           0            |\n",
       "|          []          |           0            |\n",
       "|          []          |           0            |\n",
       "|          []          |           0            |\n",
       "+----------------------+------------------------+\n",
       "[10 rows x 8 columns]"
      ]
     },
     "execution_count": 2,
     "metadata": {},
     "output_type": "execute_result"
    }
   ],
   "source": [
    "#show the table with the results\n",
    "total.head()"
   ]
  },
  {
   "cell_type": "markdown",
   "metadata": {},
   "source": [
    "## Understanding the data\n",
    "\n",
    "Now that the data is in a form that gives us the connections on education, let's make sure we understand the table. The 'company_id' column gives a reference id associated with the startup. The 'finorgs_id' gives the reference id associated with the firm that gave the money. The 'vc_ids' gives the reference id for the person. The 'schools_of_vcs' column gives a vector of the school ids that the vc went to. The 'founder_ids' column gives the reference id of the person from the startup. The 'schools_of_founders' column gives a vector of the school ids that the founder went to. The 'connected_by_schools' column gives the intersection of the two school columns. Lastly, the 'number_of_same_schools' cloumn gives the length of the previous coulmn; in other words the number of school the two share. For example, if a VC went to Cornel for undergrad and Stanford for his MBA and a founder went to Stanford for his undergrad, NYU for his masters, and Cornel for his JD then the two would share two schools. \n",
    "\n",
    "Now, let's create a subset of the data and form a network graph using networkx."
   ]
  },
  {
   "cell_type": "code",
   "execution_count": 3,
   "metadata": {
    "collapsed": false
   },
   "outputs": [
    {
     "data": {
      "text/plain": [
       "\n",
       "+------------------+---------+----------+\n",
       "|       item       |  value  | is exact |\n",
       "+------------------+---------+----------+\n",
       "|      Length      | 6694193 |   Yes    |\n",
       "| # Missing Values |    0    |   Yes    |\n",
       "| # unique values  |   4803  |    No    |\n",
       "+------------------+---------+----------+\n",
       "\n",
       "Most frequent items:\n",
       "+-------+--------+--------+--------+--------+--------+--------+--------+--------+\n",
       "| value |  c:59  |  f:36  |  f:41  | c:1242 |  c:28  |  f:17  | f:316  |  f:4   |\n",
       "+-------+--------+--------+--------+--------+--------+--------+--------+--------+\n",
       "| count | 490287 | 361218 | 312573 | 294810 | 260550 | 259080 | 212220 | 204332 |\n",
       "+-------+--------+--------+--------+--------+--------+--------+--------+--------+\n",
       "+--------+--------+\n",
       "| f:367  | f:563  |\n",
       "+--------+--------+\n",
       "| 163576 | 100080 |\n",
       "+--------+--------+\n"
      ]
     },
     "execution_count": 3,
     "metadata": {},
     "output_type": "execute_result"
    }
   ],
   "source": [
    "#find the largest vc firms by amount they appear in the table\n",
    "total['finorgs_id'].sketch_summary()"
   ]
  },
  {
   "cell_type": "markdown",
   "metadata": {},
   "source": [
    "## Choosing a subset\n",
    "\n",
    "To create a graph, let's just look at one vc firm. 'f:563' has 100,080 observations, and seems reasonable to filter on that."
   ]
  },
  {
   "cell_type": "code",
   "execution_count": 4,
   "metadata": {
    "collapsed": true
   },
   "outputs": [],
   "source": [
    "subset=total.filter_by('f:563', 'finorgs_id')"
   ]
  },
  {
   "cell_type": "code",
   "execution_count": 5,
   "metadata": {
    "collapsed": false
   },
   "outputs": [
    {
     "data": {
      "text/html": [
       "<div style=\"max-height:1000px;max-width:1500px;overflow:auto;\"><table frame=\"box\" rules=\"cols\">\n",
       "    <tr>\n",
       "        <th style=\"padding-left: 1em; padding-right: 1em; text-align: center\">company_id</th>\n",
       "        <th style=\"padding-left: 1em; padding-right: 1em; text-align: center\">finorgs_id</th>\n",
       "        <th style=\"padding-left: 1em; padding-right: 1em; text-align: center\">vc_ids</th>\n",
       "        <th style=\"padding-left: 1em; padding-right: 1em; text-align: center\">schools_of_vcs</th>\n",
       "        <th style=\"padding-left: 1em; padding-right: 1em; text-align: center\">founder_ids</th>\n",
       "        <th style=\"padding-left: 1em; padding-right: 1em; text-align: center\">schools_of_founders</th>\n",
       "        <th style=\"padding-left: 1em; padding-right: 1em; text-align: center\">connected_by_schools</th>\n",
       "        <th style=\"padding-left: 1em; padding-right: 1em; text-align: center\">number_of_same_schools</th>\n",
       "    </tr>\n",
       "    <tr>\n",
       "        <td style=\"padding-left: 1em; padding-right: 1em; text-align: center; vertical-align: top\">c:1812</td>\n",
       "        <td style=\"padding-left: 1em; padding-right: 1em; text-align: center; vertical-align: top\">f:563</td>\n",
       "        <td style=\"padding-left: 1em; padding-right: 1em; text-align: center; vertical-align: top\">p:4047</td>\n",
       "        <td style=\"padding-left: 1em; padding-right: 1em; text-align: center; vertical-align: top\">[14317, 16503]</td>\n",
       "        <td style=\"padding-left: 1em; padding-right: 1em; text-align: center; vertical-align: top\">p:28195</td>\n",
       "        <td style=\"padding-left: 1em; padding-right: 1em; text-align: center; vertical-align: top\">[14317, 15808]</td>\n",
       "        <td style=\"padding-left: 1em; padding-right: 1em; text-align: center; vertical-align: top\">[14317]</td>\n",
       "        <td style=\"padding-left: 1em; padding-right: 1em; text-align: center; vertical-align: top\">1</td>\n",
       "    </tr>\n",
       "    <tr>\n",
       "        <td style=\"padding-left: 1em; padding-right: 1em; text-align: center; vertical-align: top\">c:1812</td>\n",
       "        <td style=\"padding-left: 1em; padding-right: 1em; text-align: center; vertical-align: top\">f:563</td>\n",
       "        <td style=\"padding-left: 1em; padding-right: 1em; text-align: center; vertical-align: top\">p:4047</td>\n",
       "        <td style=\"padding-left: 1em; padding-right: 1em; text-align: center; vertical-align: top\">[14317, 16503]</td>\n",
       "        <td style=\"padding-left: 1em; padding-right: 1em; text-align: center; vertical-align: top\">p:151424</td>\n",
       "        <td style=\"padding-left: 1em; padding-right: 1em; text-align: center; vertical-align: top\">[14317, 16256]</td>\n",
       "        <td style=\"padding-left: 1em; padding-right: 1em; text-align: center; vertical-align: top\">[14317]</td>\n",
       "        <td style=\"padding-left: 1em; padding-right: 1em; text-align: center; vertical-align: top\">1</td>\n",
       "    </tr>\n",
       "    <tr>\n",
       "        <td style=\"padding-left: 1em; padding-right: 1em; text-align: center; vertical-align: top\">c:1812</td>\n",
       "        <td style=\"padding-left: 1em; padding-right: 1em; text-align: center; vertical-align: top\">f:563</td>\n",
       "        <td style=\"padding-left: 1em; padding-right: 1em; text-align: center; vertical-align: top\">p:4047</td>\n",
       "        <td style=\"padding-left: 1em; padding-right: 1em; text-align: center; vertical-align: top\">[14317, 16503]</td>\n",
       "        <td style=\"padding-left: 1em; padding-right: 1em; text-align: center; vertical-align: top\">p:799</td>\n",
       "        <td style=\"padding-left: 1em; padding-right: 1em; text-align: center; vertical-align: top\">[14317, 14814]</td>\n",
       "        <td style=\"padding-left: 1em; padding-right: 1em; text-align: center; vertical-align: top\">[14317]</td>\n",
       "        <td style=\"padding-left: 1em; padding-right: 1em; text-align: center; vertical-align: top\">1</td>\n",
       "    </tr>\n",
       "    <tr>\n",
       "        <td style=\"padding-left: 1em; padding-right: 1em; text-align: center; vertical-align: top\">c:1812</td>\n",
       "        <td style=\"padding-left: 1em; padding-right: 1em; text-align: center; vertical-align: top\">f:563</td>\n",
       "        <td style=\"padding-left: 1em; padding-right: 1em; text-align: center; vertical-align: top\">p:4047</td>\n",
       "        <td style=\"padding-left: 1em; padding-right: 1em; text-align: center; vertical-align: top\">[14317, 16503]</td>\n",
       "        <td style=\"padding-left: 1em; padding-right: 1em; text-align: center; vertical-align: top\">p:186675</td>\n",
       "        <td style=\"padding-left: 1em; padding-right: 1em; text-align: center; vertical-align: top\">[14317]</td>\n",
       "        <td style=\"padding-left: 1em; padding-right: 1em; text-align: center; vertical-align: top\">[14317]</td>\n",
       "        <td style=\"padding-left: 1em; padding-right: 1em; text-align: center; vertical-align: top\">1</td>\n",
       "    </tr>\n",
       "    <tr>\n",
       "        <td style=\"padding-left: 1em; padding-right: 1em; text-align: center; vertical-align: top\">c:1812</td>\n",
       "        <td style=\"padding-left: 1em; padding-right: 1em; text-align: center; vertical-align: top\">f:563</td>\n",
       "        <td style=\"padding-left: 1em; padding-right: 1em; text-align: center; vertical-align: top\">p:4047</td>\n",
       "        <td style=\"padding-left: 1em; padding-right: 1em; text-align: center; vertical-align: top\">[14317, 16503]</td>\n",
       "        <td style=\"padding-left: 1em; padding-right: 1em; text-align: center; vertical-align: top\">p:11713</td>\n",
       "        <td style=\"padding-left: 1em; padding-right: 1em; text-align: center; vertical-align: top\">[16503, 15808]</td>\n",
       "        <td style=\"padding-left: 1em; padding-right: 1em; text-align: center; vertical-align: top\">[16503]</td>\n",
       "        <td style=\"padding-left: 1em; padding-right: 1em; text-align: center; vertical-align: top\">1</td>\n",
       "    </tr>\n",
       "    <tr>\n",
       "        <td style=\"padding-left: 1em; padding-right: 1em; text-align: center; vertical-align: top\">c:1812</td>\n",
       "        <td style=\"padding-left: 1em; padding-right: 1em; text-align: center; vertical-align: top\">f:563</td>\n",
       "        <td style=\"padding-left: 1em; padding-right: 1em; text-align: center; vertical-align: top\">p:4047</td>\n",
       "        <td style=\"padding-left: 1em; padding-right: 1em; text-align: center; vertical-align: top\">[14317, 16503]</td>\n",
       "        <td style=\"padding-left: 1em; padding-right: 1em; text-align: center; vertical-align: top\">p:2603</td>\n",
       "        <td style=\"padding-left: 1em; padding-right: 1em; text-align: center; vertical-align: top\">[14317]</td>\n",
       "        <td style=\"padding-left: 1em; padding-right: 1em; text-align: center; vertical-align: top\">[14317]</td>\n",
       "        <td style=\"padding-left: 1em; padding-right: 1em; text-align: center; vertical-align: top\">1</td>\n",
       "    </tr>\n",
       "    <tr>\n",
       "        <td style=\"padding-left: 1em; padding-right: 1em; text-align: center; vertical-align: top\">c:1812</td>\n",
       "        <td style=\"padding-left: 1em; padding-right: 1em; text-align: center; vertical-align: top\">f:563</td>\n",
       "        <td style=\"padding-left: 1em; padding-right: 1em; text-align: center; vertical-align: top\">p:245517</td>\n",
       "        <td style=\"padding-left: 1em; padding-right: 1em; text-align: center; vertical-align: top\">[16116]</td>\n",
       "        <td style=\"padding-left: 1em; padding-right: 1em; text-align: center; vertical-align: top\">p:158061</td>\n",
       "        <td style=\"padding-left: 1em; padding-right: 1em; text-align: center; vertical-align: top\">[16116]</td>\n",
       "        <td style=\"padding-left: 1em; padding-right: 1em; text-align: center; vertical-align: top\">[16116]</td>\n",
       "        <td style=\"padding-left: 1em; padding-right: 1em; text-align: center; vertical-align: top\">1</td>\n",
       "    </tr>\n",
       "    <tr>\n",
       "        <td style=\"padding-left: 1em; padding-right: 1em; text-align: center; vertical-align: top\">c:1812</td>\n",
       "        <td style=\"padding-left: 1em; padding-right: 1em; text-align: center; vertical-align: top\">f:563</td>\n",
       "        <td style=\"padding-left: 1em; padding-right: 1em; text-align: center; vertical-align: top\">p:245517</td>\n",
       "        <td style=\"padding-left: 1em; padding-right: 1em; text-align: center; vertical-align: top\">[16116]</td>\n",
       "        <td style=\"padding-left: 1em; padding-right: 1em; text-align: center; vertical-align: top\">p:123213</td>\n",
       "        <td style=\"padding-left: 1em; padding-right: 1em; text-align: center; vertical-align: top\">[16116]</td>\n",
       "        <td style=\"padding-left: 1em; padding-right: 1em; text-align: center; vertical-align: top\">[16116]</td>\n",
       "        <td style=\"padding-left: 1em; padding-right: 1em; text-align: center; vertical-align: top\">1</td>\n",
       "    </tr>\n",
       "    <tr>\n",
       "        <td style=\"padding-left: 1em; padding-right: 1em; text-align: center; vertical-align: top\">c:1812</td>\n",
       "        <td style=\"padding-left: 1em; padding-right: 1em; text-align: center; vertical-align: top\">f:563</td>\n",
       "        <td style=\"padding-left: 1em; padding-right: 1em; text-align: center; vertical-align: top\">p:242516</td>\n",
       "        <td style=\"padding-left: 1em; padding-right: 1em; text-align: center; vertical-align: top\">[14317]</td>\n",
       "        <td style=\"padding-left: 1em; padding-right: 1em; text-align: center; vertical-align: top\">p:28195</td>\n",
       "        <td style=\"padding-left: 1em; padding-right: 1em; text-align: center; vertical-align: top\">[14317, 15808]</td>\n",
       "        <td style=\"padding-left: 1em; padding-right: 1em; text-align: center; vertical-align: top\">[14317]</td>\n",
       "        <td style=\"padding-left: 1em; padding-right: 1em; text-align: center; vertical-align: top\">1</td>\n",
       "    </tr>\n",
       "    <tr>\n",
       "        <td style=\"padding-left: 1em; padding-right: 1em; text-align: center; vertical-align: top\">c:1812</td>\n",
       "        <td style=\"padding-left: 1em; padding-right: 1em; text-align: center; vertical-align: top\">f:563</td>\n",
       "        <td style=\"padding-left: 1em; padding-right: 1em; text-align: center; vertical-align: top\">p:242516</td>\n",
       "        <td style=\"padding-left: 1em; padding-right: 1em; text-align: center; vertical-align: top\">[14317]</td>\n",
       "        <td style=\"padding-left: 1em; padding-right: 1em; text-align: center; vertical-align: top\">p:151424</td>\n",
       "        <td style=\"padding-left: 1em; padding-right: 1em; text-align: center; vertical-align: top\">[14317, 16256]</td>\n",
       "        <td style=\"padding-left: 1em; padding-right: 1em; text-align: center; vertical-align: top\">[14317]</td>\n",
       "        <td style=\"padding-left: 1em; padding-right: 1em; text-align: center; vertical-align: top\">1</td>\n",
       "    </tr>\n",
       "</table>\n",
       "[5547 rows x 8 columns]<br/>Note: Only the head of the SFrame is printed.<br/>You can use print_rows(num_rows=m, num_columns=n) to print more rows and columns.\n",
       "</div>"
      ],
      "text/plain": [
       "Columns:\n",
       "\tcompany_id\tstr\n",
       "\tfinorgs_id\tstr\n",
       "\tvc_ids\tstr\n",
       "\tschools_of_vcs\tlist\n",
       "\tfounder_ids\tstr\n",
       "\tschools_of_founders\tlist\n",
       "\tconnected_by_schools\tlist\n",
       "\tnumber_of_same_schools\tint\n",
       "\n",
       "Rows: 5547\n",
       "\n",
       "Data:\n",
       "+------------+------------+----------+----------------+-------------+\n",
       "| company_id | finorgs_id |  vc_ids  | schools_of_vcs | founder_ids |\n",
       "+------------+------------+----------+----------------+-------------+\n",
       "|   c:1812   |   f:563    |  p:4047  | [14317, 16503] |   p:28195   |\n",
       "|   c:1812   |   f:563    |  p:4047  | [14317, 16503] |   p:151424  |\n",
       "|   c:1812   |   f:563    |  p:4047  | [14317, 16503] |    p:799    |\n",
       "|   c:1812   |   f:563    |  p:4047  | [14317, 16503] |   p:186675  |\n",
       "|   c:1812   |   f:563    |  p:4047  | [14317, 16503] |   p:11713   |\n",
       "|   c:1812   |   f:563    |  p:4047  | [14317, 16503] |    p:2603   |\n",
       "|   c:1812   |   f:563    | p:245517 |    [16116]     |   p:158061  |\n",
       "|   c:1812   |   f:563    | p:245517 |    [16116]     |   p:123213  |\n",
       "|   c:1812   |   f:563    | p:242516 |    [14317]     |   p:28195   |\n",
       "|   c:1812   |   f:563    | p:242516 |    [14317]     |   p:151424  |\n",
       "+------------+------------+----------+----------------+-------------+\n",
       "+---------------------+----------------------+------------------------+\n",
       "| schools_of_founders | connected_by_schools | number_of_same_schools |\n",
       "+---------------------+----------------------+------------------------+\n",
       "|    [14317, 15808]   |       [14317]        |           1            |\n",
       "|    [14317, 16256]   |       [14317]        |           1            |\n",
       "|    [14317, 14814]   |       [14317]        |           1            |\n",
       "|       [14317]       |       [14317]        |           1            |\n",
       "|    [16503, 15808]   |       [16503]        |           1            |\n",
       "|       [14317]       |       [14317]        |           1            |\n",
       "|       [16116]       |       [16116]        |           1            |\n",
       "|       [16116]       |       [16116]        |           1            |\n",
       "|    [14317, 15808]   |       [14317]        |           1            |\n",
       "|    [14317, 16256]   |       [14317]        |           1            |\n",
       "+---------------------+----------------------+------------------------+\n",
       "[5547 rows x 8 columns]\n",
       "Note: Only the head of the SFrame is printed.\n",
       "You can use print_rows(num_rows=m, num_columns=n) to print more rows and columns."
      ]
     },
     "execution_count": 5,
     "metadata": {},
     "output_type": "execute_result"
    }
   ],
   "source": [
    "#make sure there are some connections in the subset\n",
    "connectedsubset=subset.filter_by([1,2,3,4,5,6,7,8,9], 'number_of_same_schools')\n",
    "\n",
    "connectedsubset"
   ]
  },
  {
   "cell_type": "markdown",
   "metadata": {},
   "source": [
    "## EDA\n",
    "\n",
    "Therefore, out of 100,800 observations there exist conections 5,547 times."
   ]
  },
  {
   "cell_type": "code",
   "execution_count": 6,
   "metadata": {
    "collapsed": false
   },
   "outputs": [
    {
     "data": {
      "text/plain": [
       "278"
      ]
     },
     "execution_count": 6,
     "metadata": {},
     "output_type": "execute_result"
    }
   ],
   "source": [
    "#find out how many vcs are in the firm\n",
    "len(list(subset['vc_ids'].unique()))"
   ]
  },
  {
   "cell_type": "code",
   "execution_count": 7,
   "metadata": {
    "collapsed": false
   },
   "outputs": [
    {
     "data": {
      "text/plain": [
       "25"
      ]
     },
     "execution_count": 7,
     "metadata": {},
     "output_type": "execute_result"
    }
   ],
   "source": [
    "#find out how many unique startups this firm invests in\n",
    "len(list(subset['company_id'].unique()))"
   ]
  },
  {
   "cell_type": "code",
   "execution_count": 8,
   "metadata": {
    "collapsed": false
   },
   "outputs": [
    {
     "data": {
      "text/plain": [
       "355"
      ]
     },
     "execution_count": 8,
     "metadata": {},
     "output_type": "execute_result"
    }
   ],
   "source": [
    "#find out how many unique employees/founders there are\n",
    "len(list(subset['founder_ids'].unique()))"
   ]
  },
  {
   "cell_type": "code",
   "execution_count": 9,
   "metadata": {
    "collapsed": false
   },
   "outputs": [
    {
     "data": {
      "text/plain": [
       "177"
      ]
     },
     "execution_count": 9,
     "metadata": {},
     "output_type": "execute_result"
    }
   ],
   "source": [
    "#find out how many unique schools there are\n",
    "schools=list(list(subset['schools_of_vcs'])+list(subset['schools_of_founders']))\n",
    "\n",
    "arr=[]\n",
    "for s in schools:\n",
    "    for ss in s:\n",
    "        arr.append(ss)\n",
    "        \n",
    "schools=list(set(arr))\n",
    "\n",
    "len(schools)"
   ]
  },
  {
   "cell_type": "code",
   "execution_count": 10,
   "metadata": {
    "collapsed": false
   },
   "outputs": [
    {
     "data": {
      "text/html": [
       "<pre>Finished parsing file /home/ryan/Portfolio/KnowGraph/degreematching.csv</pre>"
      ],
      "text/plain": [
       "Finished parsing file /home/ryan/Portfolio/KnowGraph/degreematching.csv"
      ]
     },
     "metadata": {},
     "output_type": "display_data"
    },
    {
     "data": {
      "text/html": [
       "<pre>Parsing completed. Parsed 17710 lines in 0.016172 secs.</pre>"
      ],
      "text/plain": [
       "Parsing completed. Parsed 17710 lines in 0.016172 secs."
      ]
     },
     "metadata": {},
     "output_type": "display_data"
    },
    {
     "data": {
      "text/html": [
       "<div style=\"max-height:1000px;max-width:1500px;overflow:auto;\"><table frame=\"box\" rules=\"cols\">\n",
       "    <tr>\n",
       "        <th style=\"padding-left: 1em; padding-right: 1em; text-align: center\">inst_name</th>\n",
       "        <th style=\"padding-left: 1em; padding-right: 1em; text-align: center\">inst_id</th>\n",
       "        <th style=\"padding-left: 1em; padding-right: 1em; text-align: center\">num_vc_alumni</th>\n",
       "    </tr>\n",
       "    <tr>\n",
       "        <td style=\"padding-left: 1em; padding-right: 1em; text-align: center; vertical-align: top\">harvard university **</td>\n",
       "        <td style=\"padding-left: 1em; padding-right: 1em; text-align: center; vertical-align: top\">[14317, 14317, 14317,<br>14317, 14317, 14317, ...</td>\n",
       "        <td style=\"padding-left: 1em; padding-right: 1em; text-align: center; vertical-align: top\">52</td>\n",
       "    </tr>\n",
       "    <tr>\n",
       "        <td style=\"padding-left: 1em; padding-right: 1em; text-align: center; vertical-align: top\">stanford university</td>\n",
       "        <td style=\"padding-left: 1em; padding-right: 1em; text-align: center; vertical-align: top\">[15808, 15808, 15808,<br>15808, 15808, 15808, ...</td>\n",
       "        <td style=\"padding-left: 1em; padding-right: 1em; text-align: center; vertical-align: top\">42</td>\n",
       "    </tr>\n",
       "    <tr>\n",
       "        <td style=\"padding-left: 1em; padding-right: 1em; text-align: center; vertical-align: top\">university of<br>pennsylvania ...</td>\n",
       "        <td style=\"padding-left: 1em; padding-right: 1em; text-align: center; vertical-align: top\">[16162, 16162, 16162,<br>16162, 16162, 16162, ...</td>\n",
       "        <td style=\"padding-left: 1em; padding-right: 1em; text-align: center; vertical-align: top\">14</td>\n",
       "    </tr>\n",
       "    <tr>\n",
       "        <td style=\"padding-left: 1em; padding-right: 1em; text-align: center; vertical-align: top\">columbia university new<br>york ...</td>\n",
       "        <td style=\"padding-left: 1em; padding-right: 1em; text-align: center; vertical-align: top\">[13837, 13837, 13837,<br>13837, 13837, 13837, ...</td>\n",
       "        <td style=\"padding-left: 1em; padding-right: 1em; text-align: center; vertical-align: top\">13</td>\n",
       "    </tr>\n",
       "    <tr>\n",
       "        <td style=\"padding-left: 1em; padding-right: 1em; text-align: center; vertical-align: top\">yale university</td>\n",
       "        <td style=\"padding-left: 1em; padding-right: 1em; text-align: center; vertical-align: top\">[16503, 16503, 16503,<br>16503, 16503, 16503, ...</td>\n",
       "        <td style=\"padding-left: 1em; padding-right: 1em; text-align: center; vertical-align: top\">12</td>\n",
       "    </tr>\n",
       "    <tr>\n",
       "        <td style=\"padding-left: 1em; padding-right: 1em; text-align: center; vertical-align: top\">princeton university</td>\n",
       "        <td style=\"padding-left: 1em; padding-right: 1em; text-align: center; vertical-align: top\">[15403, 15403, 15403,<br>15403, 15403, 15403, ...</td>\n",
       "        <td style=\"padding-left: 1em; padding-right: 1em; text-align: center; vertical-align: top\">10</td>\n",
       "    </tr>\n",
       "    <tr>\n",
       "        <td style=\"padding-left: 1em; padding-right: 1em; text-align: center; vertical-align: top\">cornell university</td>\n",
       "        <td style=\"padding-left: 1em; padding-right: 1em; text-align: center; vertical-align: top\">[13887, 13887, 13887,<br>13887, 13887, 13887, ...</td>\n",
       "        <td style=\"padding-left: 1em; padding-right: 1em; text-align: center; vertical-align: top\">9</td>\n",
       "    </tr>\n",
       "    <tr>\n",
       "        <td style=\"padding-left: 1em; padding-right: 1em; text-align: center; vertical-align: top\">new york university</td>\n",
       "        <td style=\"padding-left: 1em; padding-right: 1em; text-align: center; vertical-align: top\">[15098, 15098, 15098,<br>15098, 15098, 15098, ...</td>\n",
       "        <td style=\"padding-left: 1em; padding-right: 1em; text-align: center; vertical-align: top\">9</td>\n",
       "    </tr>\n",
       "    <tr>\n",
       "        <td style=\"padding-left: 1em; padding-right: 1em; text-align: center; vertical-align: top\">massachusetts institute<br>of technology ...</td>\n",
       "        <td style=\"padding-left: 1em; padding-right: 1em; text-align: center; vertical-align: top\">[14814, 14814, 14814,<br>14814, 14814, 14814, ...</td>\n",
       "        <td style=\"padding-left: 1em; padding-right: 1em; text-align: center; vertical-align: top\">8</td>\n",
       "    </tr>\n",
       "    <tr>\n",
       "        <td style=\"padding-left: 1em; padding-right: 1em; text-align: center; vertical-align: top\">dartmouth college</td>\n",
       "        <td style=\"padding-left: 1em; padding-right: 1em; text-align: center; vertical-align: top\">[13937, 13937, 13937,<br>13937, 13937, 13937, ...</td>\n",
       "        <td style=\"padding-left: 1em; padding-right: 1em; text-align: center; vertical-align: top\">8</td>\n",
       "    </tr>\n",
       "</table>\n",
       "[83 rows x 3 columns]<br/>Note: Only the head of the SFrame is printed.<br/>You can use print_rows(num_rows=m, num_columns=n) to print more rows and columns.\n",
       "</div>"
      ],
      "text/plain": [
       "Columns:\n",
       "\tinst_name\tstr\n",
       "\tinst_id\tlist\n",
       "\tnum_vc_alumni\tint\n",
       "\n",
       "Rows: 83\n",
       "\n",
       "Data:\n",
       "+-------------------------------+-------------------------------+---------------+\n",
       "|           inst_name           |            inst_id            | num_vc_alumni |\n",
       "+-------------------------------+-------------------------------+---------------+\n",
       "|     harvard university **     | [14317, 14317, 14317, 1431... |       52      |\n",
       "|      stanford university      | [15808, 15808, 15808, 1580... |       42      |\n",
       "|   university of pennsylvania  | [16162, 16162, 16162, 1616... |       14      |\n",
       "|  columbia university new york | [13837, 13837, 13837, 1383... |       13      |\n",
       "|        yale university        | [16503, 16503, 16503, 1650... |       12      |\n",
       "|      princeton university     | [15403, 15403, 15403, 1540... |       10      |\n",
       "|       cornell university      | [13887, 13887, 13887, 1388... |       9       |\n",
       "|      new york university      | [15098, 15098, 15098, 1509... |       9       |\n",
       "| massachusetts institute of... | [14814, 14814, 14814, 1481... |       8       |\n",
       "|       dartmouth college       | [13937, 13937, 13937, 1393... |       8       |\n",
       "+-------------------------------+-------------------------------+---------------+\n",
       "[83 rows x 3 columns]\n",
       "Note: Only the head of the SFrame is printed.\n",
       "You can use print_rows(num_rows=m, num_columns=n) to print more rows and columns."
      ]
     },
     "execution_count": 10,
     "metadata": {},
     "output_type": "execute_result"
    }
   ],
   "source": [
    "#match ids with school names\n",
    "#fix university with ids\n",
    "uni=gl.SFrame.read_csv('degreematching.csv', column_type_hints=[str,int,int,str])\n",
    "#drop inst useless columns\n",
    "uni=uni.remove_columns(['institution', 'line'])\n",
    "uni=uni.dropna()\n",
    "uni['inst_name']=uni['inst_name'].apply(lambda x: str(x).lower())\n",
    "uni=uni.unique()\n",
    "\n",
    "#get number alumni at each school for vcs\n",
    "vc=subset[['vc_ids', 'schools_of_vcs']]\n",
    "vc=vc.unique()\n",
    "vc=vc.stack('schools_of_vcs',new_column_name='inst_id')\n",
    "vc=vc.remove_column('vc_ids')\n",
    "\n",
    "vc['inst_id']=vc['inst_id'].apply(lambda x: int(x))\n",
    "vc_schools=vc.join(uni, on='inst_id', how='left')\n",
    "\n",
    "\n",
    "vc_schools=vc_schools.unstack('inst_id',new_column_name='inst_id')\n",
    "\n",
    "vc_schools['num_vc_alumni']=vc_schools['inst_id'].apply(lambda x: len(x))\n",
    "vc_schools.sort('num_vc_alumni',ascending=False)"
   ]
  },
  {
   "cell_type": "markdown",
   "metadata": {},
   "source": [
    "The above table informs us that a majority of the vcs at this firm are Harvard and Stanford alumn. Let's see where the majority of founders are alum from."
   ]
  },
  {
   "cell_type": "code",
   "execution_count": 11,
   "metadata": {
    "collapsed": false
   },
   "outputs": [
    {
     "data": {
      "text/html": [
       "<div style=\"max-height:1000px;max-width:1500px;overflow:auto;\"><table frame=\"box\" rules=\"cols\">\n",
       "    <tr>\n",
       "        <th style=\"padding-left: 1em; padding-right: 1em; text-align: center\">inst_name</th>\n",
       "        <th style=\"padding-left: 1em; padding-right: 1em; text-align: center\">inst_id</th>\n",
       "        <th style=\"padding-left: 1em; padding-right: 1em; text-align: center\">num_founder_alumni</th>\n",
       "    </tr>\n",
       "    <tr>\n",
       "        <td style=\"padding-left: 1em; padding-right: 1em; text-align: center; vertical-align: top\">stanford university</td>\n",
       "        <td style=\"padding-left: 1em; padding-right: 1em; text-align: center; vertical-align: top\">[15808, 15808, 15808,<br>15808, 15808, 15808, ...</td>\n",
       "        <td style=\"padding-left: 1em; padding-right: 1em; text-align: center; vertical-align: top\">64</td>\n",
       "    </tr>\n",
       "    <tr>\n",
       "        <td style=\"padding-left: 1em; padding-right: 1em; text-align: center; vertical-align: top\">harvard university **</td>\n",
       "        <td style=\"padding-left: 1em; padding-right: 1em; text-align: center; vertical-align: top\">[14317, 14317, 14317,<br>14317, 14317, 14317, ...</td>\n",
       "        <td style=\"padding-left: 1em; padding-right: 1em; text-align: center; vertical-align: top\">32</td>\n",
       "    </tr>\n",
       "    <tr>\n",
       "        <td style=\"padding-left: 1em; padding-right: 1em; text-align: center; vertical-align: top\">university of<br>pennsylvania ...</td>\n",
       "        <td style=\"padding-left: 1em; padding-right: 1em; text-align: center; vertical-align: top\">[16162, 16162, 16162,<br>16162, 16162, 16162, ...</td>\n",
       "        <td style=\"padding-left: 1em; padding-right: 1em; text-align: center; vertical-align: top\">14</td>\n",
       "    </tr>\n",
       "    <tr>\n",
       "        <td style=\"padding-left: 1em; padding-right: 1em; text-align: center; vertical-align: top\">massachusetts institute<br>of technology ...</td>\n",
       "        <td style=\"padding-left: 1em; padding-right: 1em; text-align: center; vertical-align: top\">[14814, 14814, 14814,<br>14814, 14814, 14814, ...</td>\n",
       "        <td style=\"padding-left: 1em; padding-right: 1em; text-align: center; vertical-align: top\">14</td>\n",
       "    </tr>\n",
       "    <tr>\n",
       "        <td style=\"padding-left: 1em; padding-right: 1em; text-align: center; vertical-align: top\">new york university</td>\n",
       "        <td style=\"padding-left: 1em; padding-right: 1em; text-align: center; vertical-align: top\">[15098, 15098, 15098,<br>15098, 15098, 15098, ...</td>\n",
       "        <td style=\"padding-left: 1em; padding-right: 1em; text-align: center; vertical-align: top\">11</td>\n",
       "    </tr>\n",
       "    <tr>\n",
       "        <td style=\"padding-left: 1em; padding-right: 1em; text-align: center; vertical-align: top\">university of michigan</td>\n",
       "        <td style=\"padding-left: 1em; padding-right: 1em; text-align: center; vertical-align: top\">[16116, 16116, 16116,<br>16116, 16116, 16116, ...</td>\n",
       "        <td style=\"padding-left: 1em; padding-right: 1em; text-align: center; vertical-align: top\">11</td>\n",
       "    </tr>\n",
       "    <tr>\n",
       "        <td style=\"padding-left: 1em; padding-right: 1em; text-align: center; vertical-align: top\">columbia university new<br>york ...</td>\n",
       "        <td style=\"padding-left: 1em; padding-right: 1em; text-align: center; vertical-align: top\">[13837, 13837, 13837,<br>13837, 13837, 13837, ...</td>\n",
       "        <td style=\"padding-left: 1em; padding-right: 1em; text-align: center; vertical-align: top\">10</td>\n",
       "    </tr>\n",
       "    <tr>\n",
       "        <td style=\"padding-left: 1em; padding-right: 1em; text-align: center; vertical-align: top\">cornell university</td>\n",
       "        <td style=\"padding-left: 1em; padding-right: 1em; text-align: center; vertical-align: top\">[13887, 13887, 13887,<br>13887, 13887, 13887, ...</td>\n",
       "        <td style=\"padding-left: 1em; padding-right: 1em; text-align: center; vertical-align: top\">9</td>\n",
       "    </tr>\n",
       "    <tr>\n",
       "        <td style=\"padding-left: 1em; padding-right: 1em; text-align: center; vertical-align: top\">university of illinois<br>urbana champaign * ...</td>\n",
       "        <td style=\"padding-left: 1em; padding-right: 1em; text-align: center; vertical-align: top\">[16083, 16083, 16083,<br>16083, 16083, 16083, ...</td>\n",
       "        <td style=\"padding-left: 1em; padding-right: 1em; text-align: center; vertical-align: top\">8</td>\n",
       "    </tr>\n",
       "    <tr>\n",
       "        <td style=\"padding-left: 1em; padding-right: 1em; text-align: center; vertical-align: top\">georgetown university</td>\n",
       "        <td style=\"padding-left: 1em; padding-right: 1em; text-align: center; vertical-align: top\">[14216, 14216, 14216,<br>14216, 14216, 14216, ...</td>\n",
       "        <td style=\"padding-left: 1em; padding-right: 1em; text-align: center; vertical-align: top\">8</td>\n",
       "    </tr>\n",
       "</table>\n",
       "[142 rows x 3 columns]<br/>Note: Only the head of the SFrame is printed.<br/>You can use print_rows(num_rows=m, num_columns=n) to print more rows and columns.\n",
       "</div>"
      ],
      "text/plain": [
       "Columns:\n",
       "\tinst_name\tstr\n",
       "\tinst_id\tlist\n",
       "\tnum_founder_alumni\tint\n",
       "\n",
       "Rows: 142\n",
       "\n",
       "Data:\n",
       "+-------------------------------+-------------------------------+--------------------+\n",
       "|           inst_name           |            inst_id            | num_founder_alumni |\n",
       "+-------------------------------+-------------------------------+--------------------+\n",
       "|      stanford university      | [15808, 15808, 15808, 1580... |         64         |\n",
       "|     harvard university **     | [14317, 14317, 14317, 1431... |         32         |\n",
       "|   university of pennsylvania  | [16162, 16162, 16162, 1616... |         14         |\n",
       "| massachusetts institute of... | [14814, 14814, 14814, 1481... |         14         |\n",
       "|      new york university      | [15098, 15098, 15098, 1509... |         11         |\n",
       "|     university of michigan    | [16116, 16116, 16116, 1611... |         11         |\n",
       "|  columbia university new york | [13837, 13837, 13837, 1383... |         10         |\n",
       "|       cornell university      | [13887, 13887, 13887, 1388... |         9          |\n",
       "| university of illinois urb... | [16083, 16083, 16083, 1608... |         8          |\n",
       "|     georgetown university     | [14216, 14216, 14216, 1421... |         8          |\n",
       "+-------------------------------+-------------------------------+--------------------+\n",
       "[142 rows x 3 columns]\n",
       "Note: Only the head of the SFrame is printed.\n",
       "You can use print_rows(num_rows=m, num_columns=n) to print more rows and columns."
      ]
     },
     "execution_count": 11,
     "metadata": {},
     "output_type": "execute_result"
    }
   ],
   "source": [
    "#get number alumni at each school for founders\n",
    "fo=subset[['founder_ids', 'schools_of_founders']]\n",
    "fo=fo.unique()\n",
    "fo=fo.stack('schools_of_founders',new_column_name='inst_id')\n",
    "fo=fo.remove_column('founder_ids')\n",
    "\n",
    "fo['inst_id']=fo['inst_id'].apply(lambda x: int(x))\n",
    "fo_schools=fo.join(uni, on='inst_id', how='left')\n",
    "\n",
    "\n",
    "fo_schools=fo_schools.unstack('inst_id',new_column_name='inst_id')\n",
    "\n",
    "fo_schools['num_founder_alumni']=fo_schools['inst_id'].apply(lambda x: len(x))\n",
    "fo_schools.sort('num_founder_alumni',ascending=False)"
   ]
  },
  {
   "cell_type": "markdown",
   "metadata": {},
   "source": [
    "It appears the founders are also concentrated as alum at mainly Stanford and Harvard.\n",
    "\n",
    "## Creating the Graph\n",
    "\n",
    "Above we figured out some basic information about the subset of data we had. Now it is time to start created the graph. The graph will be very large even with this subset of people for that reason, we do the graph work on one vc.\n",
    "\n"
   ]
  },
  {
   "cell_type": "code",
   "execution_count": 12,
   "metadata": {
    "collapsed": false
   },
   "outputs": [
    {
     "data": {
      "text/html": [
       "<div style=\"max-height:1000px;max-width:1500px;overflow:auto;\"><table frame=\"box\" rules=\"cols\">\n",
       "    <tr>\n",
       "        <th style=\"padding-left: 1em; padding-right: 1em; text-align: center\">company_id</th>\n",
       "        <th style=\"padding-left: 1em; padding-right: 1em; text-align: center\">finorgs_id</th>\n",
       "        <th style=\"padding-left: 1em; padding-right: 1em; text-align: center\">vc_ids</th>\n",
       "        <th style=\"padding-left: 1em; padding-right: 1em; text-align: center\">schools_of_vcs</th>\n",
       "        <th style=\"padding-left: 1em; padding-right: 1em; text-align: center\">founder_ids</th>\n",
       "        <th style=\"padding-left: 1em; padding-right: 1em; text-align: center\">schools_of_founders</th>\n",
       "        <th style=\"padding-left: 1em; padding-right: 1em; text-align: center\">connected_by_schools</th>\n",
       "        <th style=\"padding-left: 1em; padding-right: 1em; text-align: center\">number_of_same_schools</th>\n",
       "    </tr>\n",
       "    <tr>\n",
       "        <td style=\"padding-left: 1em; padding-right: 1em; text-align: center; vertical-align: top\">c:1812</td>\n",
       "        <td style=\"padding-left: 1em; padding-right: 1em; text-align: center; vertical-align: top\">f:563</td>\n",
       "        <td style=\"padding-left: 1em; padding-right: 1em; text-align: center; vertical-align: top\">p:57950</td>\n",
       "        <td style=\"padding-left: 1em; padding-right: 1em; text-align: center; vertical-align: top\">[15403, 15808]</td>\n",
       "        <td style=\"padding-left: 1em; padding-right: 1em; text-align: center; vertical-align: top\">p:243095</td>\n",
       "        <td style=\"padding-left: 1em; padding-right: 1em; text-align: center; vertical-align: top\">[15808]</td>\n",
       "        <td style=\"padding-left: 1em; padding-right: 1em; text-align: center; vertical-align: top\">[15808]</td>\n",
       "        <td style=\"padding-left: 1em; padding-right: 1em; text-align: center; vertical-align: top\">1</td>\n",
       "    </tr>\n",
       "    <tr>\n",
       "        <td style=\"padding-left: 1em; padding-right: 1em; text-align: center; vertical-align: top\">c:1812</td>\n",
       "        <td style=\"padding-left: 1em; padding-right: 1em; text-align: center; vertical-align: top\">f:563</td>\n",
       "        <td style=\"padding-left: 1em; padding-right: 1em; text-align: center; vertical-align: top\">p:57950</td>\n",
       "        <td style=\"padding-left: 1em; padding-right: 1em; text-align: center; vertical-align: top\">[15403, 15808]</td>\n",
       "        <td style=\"padding-left: 1em; padding-right: 1em; text-align: center; vertical-align: top\">p:28195</td>\n",
       "        <td style=\"padding-left: 1em; padding-right: 1em; text-align: center; vertical-align: top\">[14317, 15808]</td>\n",
       "        <td style=\"padding-left: 1em; padding-right: 1em; text-align: center; vertical-align: top\">[15808]</td>\n",
       "        <td style=\"padding-left: 1em; padding-right: 1em; text-align: center; vertical-align: top\">1</td>\n",
       "    </tr>\n",
       "    <tr>\n",
       "        <td style=\"padding-left: 1em; padding-right: 1em; text-align: center; vertical-align: top\">c:1812</td>\n",
       "        <td style=\"padding-left: 1em; padding-right: 1em; text-align: center; vertical-align: top\">f:563</td>\n",
       "        <td style=\"padding-left: 1em; padding-right: 1em; text-align: center; vertical-align: top\">p:57950</td>\n",
       "        <td style=\"padding-left: 1em; padding-right: 1em; text-align: center; vertical-align: top\">[15403, 15808]</td>\n",
       "        <td style=\"padding-left: 1em; padding-right: 1em; text-align: center; vertical-align: top\">p:7991</td>\n",
       "        <td style=\"padding-left: 1em; padding-right: 1em; text-align: center; vertical-align: top\">[15098, 15403]</td>\n",
       "        <td style=\"padding-left: 1em; padding-right: 1em; text-align: center; vertical-align: top\">[15403]</td>\n",
       "        <td style=\"padding-left: 1em; padding-right: 1em; text-align: center; vertical-align: top\">1</td>\n",
       "    </tr>\n",
       "    <tr>\n",
       "        <td style=\"padding-left: 1em; padding-right: 1em; text-align: center; vertical-align: top\">c:1812</td>\n",
       "        <td style=\"padding-left: 1em; padding-right: 1em; text-align: center; vertical-align: top\">f:563</td>\n",
       "        <td style=\"padding-left: 1em; padding-right: 1em; text-align: center; vertical-align: top\">p:57950</td>\n",
       "        <td style=\"padding-left: 1em; padding-right: 1em; text-align: center; vertical-align: top\">[15403, 15808]</td>\n",
       "        <td style=\"padding-left: 1em; padding-right: 1em; text-align: center; vertical-align: top\">p:93262</td>\n",
       "        <td style=\"padding-left: 1em; padding-right: 1em; text-align: center; vertical-align: top\">[15808]</td>\n",
       "        <td style=\"padding-left: 1em; padding-right: 1em; text-align: center; vertical-align: top\">[15808]</td>\n",
       "        <td style=\"padding-left: 1em; padding-right: 1em; text-align: center; vertical-align: top\">1</td>\n",
       "    </tr>\n",
       "    <tr>\n",
       "        <td style=\"padding-left: 1em; padding-right: 1em; text-align: center; vertical-align: top\">c:1812</td>\n",
       "        <td style=\"padding-left: 1em; padding-right: 1em; text-align: center; vertical-align: top\">f:563</td>\n",
       "        <td style=\"padding-left: 1em; padding-right: 1em; text-align: center; vertical-align: top\">p:57950</td>\n",
       "        <td style=\"padding-left: 1em; padding-right: 1em; text-align: center; vertical-align: top\">[15403, 15808]</td>\n",
       "        <td style=\"padding-left: 1em; padding-right: 1em; text-align: center; vertical-align: top\">p:16518</td>\n",
       "        <td style=\"padding-left: 1em; padding-right: 1em; text-align: center; vertical-align: top\">[16232, 15808]</td>\n",
       "        <td style=\"padding-left: 1em; padding-right: 1em; text-align: center; vertical-align: top\">[15808]</td>\n",
       "        <td style=\"padding-left: 1em; padding-right: 1em; text-align: center; vertical-align: top\">1</td>\n",
       "    </tr>\n",
       "    <tr>\n",
       "        <td style=\"padding-left: 1em; padding-right: 1em; text-align: center; vertical-align: top\">c:1812</td>\n",
       "        <td style=\"padding-left: 1em; padding-right: 1em; text-align: center; vertical-align: top\">f:563</td>\n",
       "        <td style=\"padding-left: 1em; padding-right: 1em; text-align: center; vertical-align: top\">p:57950</td>\n",
       "        <td style=\"padding-left: 1em; padding-right: 1em; text-align: center; vertical-align: top\">[15403, 15808]</td>\n",
       "        <td style=\"padding-left: 1em; padding-right: 1em; text-align: center; vertical-align: top\">p:570</td>\n",
       "        <td style=\"padding-left: 1em; padding-right: 1em; text-align: center; vertical-align: top\">[15808]</td>\n",
       "        <td style=\"padding-left: 1em; padding-right: 1em; text-align: center; vertical-align: top\">[15808]</td>\n",
       "        <td style=\"padding-left: 1em; padding-right: 1em; text-align: center; vertical-align: top\">1</td>\n",
       "    </tr>\n",
       "    <tr>\n",
       "        <td style=\"padding-left: 1em; padding-right: 1em; text-align: center; vertical-align: top\">c:1812</td>\n",
       "        <td style=\"padding-left: 1em; padding-right: 1em; text-align: center; vertical-align: top\">f:563</td>\n",
       "        <td style=\"padding-left: 1em; padding-right: 1em; text-align: center; vertical-align: top\">p:57950</td>\n",
       "        <td style=\"padding-left: 1em; padding-right: 1em; text-align: center; vertical-align: top\">[15403, 15808]</td>\n",
       "        <td style=\"padding-left: 1em; padding-right: 1em; text-align: center; vertical-align: top\">p:45734</td>\n",
       "        <td style=\"padding-left: 1em; padding-right: 1em; text-align: center; vertical-align: top\">[15808]</td>\n",
       "        <td style=\"padding-left: 1em; padding-right: 1em; text-align: center; vertical-align: top\">[15808]</td>\n",
       "        <td style=\"padding-left: 1em; padding-right: 1em; text-align: center; vertical-align: top\">1</td>\n",
       "    </tr>\n",
       "    <tr>\n",
       "        <td style=\"padding-left: 1em; padding-right: 1em; text-align: center; vertical-align: top\">c:1812</td>\n",
       "        <td style=\"padding-left: 1em; padding-right: 1em; text-align: center; vertical-align: top\">f:563</td>\n",
       "        <td style=\"padding-left: 1em; padding-right: 1em; text-align: center; vertical-align: top\">p:57950</td>\n",
       "        <td style=\"padding-left: 1em; padding-right: 1em; text-align: center; vertical-align: top\">[15403, 15808]</td>\n",
       "        <td style=\"padding-left: 1em; padding-right: 1em; text-align: center; vertical-align: top\">p:197898</td>\n",
       "        <td style=\"padding-left: 1em; padding-right: 1em; text-align: center; vertical-align: top\">[15403]</td>\n",
       "        <td style=\"padding-left: 1em; padding-right: 1em; text-align: center; vertical-align: top\">[15403]</td>\n",
       "        <td style=\"padding-left: 1em; padding-right: 1em; text-align: center; vertical-align: top\">1</td>\n",
       "    </tr>\n",
       "    <tr>\n",
       "        <td style=\"padding-left: 1em; padding-right: 1em; text-align: center; vertical-align: top\">c:1812</td>\n",
       "        <td style=\"padding-left: 1em; padding-right: 1em; text-align: center; vertical-align: top\">f:563</td>\n",
       "        <td style=\"padding-left: 1em; padding-right: 1em; text-align: center; vertical-align: top\">p:57950</td>\n",
       "        <td style=\"padding-left: 1em; padding-right: 1em; text-align: center; vertical-align: top\">[15403, 15808]</td>\n",
       "        <td style=\"padding-left: 1em; padding-right: 1em; text-align: center; vertical-align: top\">p:59991</td>\n",
       "        <td style=\"padding-left: 1em; padding-right: 1em; text-align: center; vertical-align: top\">[14733, 15808]</td>\n",
       "        <td style=\"padding-left: 1em; padding-right: 1em; text-align: center; vertical-align: top\">[15808]</td>\n",
       "        <td style=\"padding-left: 1em; padding-right: 1em; text-align: center; vertical-align: top\">1</td>\n",
       "    </tr>\n",
       "    <tr>\n",
       "        <td style=\"padding-left: 1em; padding-right: 1em; text-align: center; vertical-align: top\">c:1812</td>\n",
       "        <td style=\"padding-left: 1em; padding-right: 1em; text-align: center; vertical-align: top\">f:563</td>\n",
       "        <td style=\"padding-left: 1em; padding-right: 1em; text-align: center; vertical-align: top\">p:57950</td>\n",
       "        <td style=\"padding-left: 1em; padding-right: 1em; text-align: center; vertical-align: top\">[15403, 15808]</td>\n",
       "        <td style=\"padding-left: 1em; padding-right: 1em; text-align: center; vertical-align: top\">p:20927</td>\n",
       "        <td style=\"padding-left: 1em; padding-right: 1em; text-align: center; vertical-align: top\">[16231, 15808]</td>\n",
       "        <td style=\"padding-left: 1em; padding-right: 1em; text-align: center; vertical-align: top\">[15808]</td>\n",
       "        <td style=\"padding-left: 1em; padding-right: 1em; text-align: center; vertical-align: top\">1</td>\n",
       "    </tr>\n",
       "</table>\n",
       "[70 rows x 8 columns]<br/>Note: Only the head of the SFrame is printed.<br/>You can use print_rows(num_rows=m, num_columns=n) to print more rows and columns.\n",
       "</div>"
      ],
      "text/plain": [
       "Columns:\n",
       "\tcompany_id\tstr\n",
       "\tfinorgs_id\tstr\n",
       "\tvc_ids\tstr\n",
       "\tschools_of_vcs\tlist\n",
       "\tfounder_ids\tstr\n",
       "\tschools_of_founders\tlist\n",
       "\tconnected_by_schools\tlist\n",
       "\tnumber_of_same_schools\tint\n",
       "\n",
       "Rows: 70\n",
       "\n",
       "Data:\n",
       "+------------+------------+---------+----------------+-------------+\n",
       "| company_id | finorgs_id |  vc_ids | schools_of_vcs | founder_ids |\n",
       "+------------+------------+---------+----------------+-------------+\n",
       "|   c:1812   |   f:563    | p:57950 | [15403, 15808] |   p:243095  |\n",
       "|   c:1812   |   f:563    | p:57950 | [15403, 15808] |   p:28195   |\n",
       "|   c:1812   |   f:563    | p:57950 | [15403, 15808] |    p:7991   |\n",
       "|   c:1812   |   f:563    | p:57950 | [15403, 15808] |   p:93262   |\n",
       "|   c:1812   |   f:563    | p:57950 | [15403, 15808] |   p:16518   |\n",
       "|   c:1812   |   f:563    | p:57950 | [15403, 15808] |    p:570    |\n",
       "|   c:1812   |   f:563    | p:57950 | [15403, 15808] |   p:45734   |\n",
       "|   c:1812   |   f:563    | p:57950 | [15403, 15808] |   p:197898  |\n",
       "|   c:1812   |   f:563    | p:57950 | [15403, 15808] |   p:59991   |\n",
       "|   c:1812   |   f:563    | p:57950 | [15403, 15808] |   p:20927   |\n",
       "+------------+------------+---------+----------------+-------------+\n",
       "+---------------------+----------------------+------------------------+\n",
       "| schools_of_founders | connected_by_schools | number_of_same_schools |\n",
       "+---------------------+----------------------+------------------------+\n",
       "|       [15808]       |       [15808]        |           1            |\n",
       "|    [14317, 15808]   |       [15808]        |           1            |\n",
       "|    [15098, 15403]   |       [15403]        |           1            |\n",
       "|       [15808]       |       [15808]        |           1            |\n",
       "|    [16232, 15808]   |       [15808]        |           1            |\n",
       "|       [15808]       |       [15808]        |           1            |\n",
       "|       [15808]       |       [15808]        |           1            |\n",
       "|       [15403]       |       [15403]        |           1            |\n",
       "|    [14733, 15808]   |       [15808]        |           1            |\n",
       "|    [16231, 15808]   |       [15808]        |           1            |\n",
       "+---------------------+----------------------+------------------------+\n",
       "[70 rows x 8 columns]\n",
       "Note: Only the head of the SFrame is printed.\n",
       "You can use print_rows(num_rows=m, num_columns=n) to print more rows and columns."
      ]
     },
     "execution_count": 12,
     "metadata": {},
     "output_type": "execute_result"
    }
   ],
   "source": [
    "#filter on one vc\n",
    "sub=connectedsubset.filter_by(['p:57950'],'vc_ids' )\n",
    "\n",
    "sub"
   ]
  },
  {
   "cell_type": "code",
   "execution_count": 13,
   "metadata": {
    "collapsed": false
   },
   "outputs": [
    {
     "data": {
      "text/plain": [
       "15"
      ]
     },
     "execution_count": 13,
     "metadata": {},
     "output_type": "execute_result"
    }
   ],
   "source": [
    "#unique companies in sub\n",
    "len(list(sub['company_id'].unique()))"
   ]
  },
  {
   "cell_type": "code",
   "execution_count": 14,
   "metadata": {
    "collapsed": false
   },
   "outputs": [
    {
     "data": {
      "text/plain": [
       "1"
      ]
     },
     "execution_count": 14,
     "metadata": {},
     "output_type": "execute_result"
    }
   ],
   "source": [
    "import networkx as nx\n",
    "import matplotlib.pyplot as plt\n",
    "\n",
    "G=nx.Graph() #create graph\n",
    "\n",
    "#add nodes from the list of vcs\n",
    "G.add_nodes_from(list(sub['vc_ids'].unique()), color='green') \n",
    "\n",
    "#number of vcs in subset\n",
    "len(list(sub['vc_ids'].unique()))"
   ]
  },
  {
   "cell_type": "code",
   "execution_count": 15,
   "metadata": {
    "collapsed": true
   },
   "outputs": [],
   "source": [
    "plt.clf()\n",
    "nx.draw(G)\n",
    "#plt.show()\n",
    "plt.savefig(\"vc.png\")"
   ]
  },
  {
   "cell_type": "markdown",
   "metadata": {
    "collapsed": true
   },
   "source": [
    "### Graph of VC\n",
    "\n",
    "<img src=\"vc.png\" alt=\"vc\" style=\"width:600px;height:400px;\">\n",
    "The code above generate one node. This node is are VC."
   ]
  },
  {
   "cell_type": "code",
   "execution_count": 17,
   "metadata": {
    "collapsed": false
   },
   "outputs": [],
   "source": [
    "#create function to create 3-tuple to create edges in networkx\n",
    "def tup(alist ):\n",
    "    arr=[]\n",
    "    while len(alist)>0:\n",
    "        index=1\n",
    "        while index<len(alist):\n",
    "            arr.append((alist[0],alist[index]))\n",
    "            index+=1\n",
    "        alist=alist[1::]\n",
    "    return arr\n",
    "\n",
    "#color='g',weight=6"
   ]
  },
  {
   "cell_type": "code",
   "execution_count": 18,
   "metadata": {
    "collapsed": false
   },
   "outputs": [],
   "source": [
    "#create nodes and edges for the companies in the subset\n",
    "uncomps=list(sub['company_id'].unique())\n",
    "\n",
    "for un in uncomps:\n",
    "    c=sub.filter_by(un,'company_id' ) \n",
    "    G.add_nodes_from(list(c['founder_ids'].unique())) \n",
    "    G.add_edges_from(tup(list(c['founder_ids'].unique())))"
   ]
  },
  {
   "cell_type": "code",
   "execution_count": 19,
   "metadata": {
    "collapsed": true
   },
   "outputs": [],
   "source": [
    "plt.clf()\n",
    "nx.draw(G)\n",
    "#plt.show()\n",
    "plt.savefig(\"comps.png\")"
   ]
  },
  {
   "cell_type": "markdown",
   "metadata": {},
   "source": [
    "### Graph with companies connected\n",
    "\n",
    "<img src=\"comps.png\" alt=\"comp\" style=\"width:600px;height:400px;\">\n",
    "\n",
    "As we can see there are a few large comopanies and and some very small ones. Now let's connect them to the one vc by school connection. Also note, networkx automatically picks the way the graph looks if we do not speicify and clusters the connected together."
   ]
  },
  {
   "cell_type": "code",
   "execution_count": 20,
   "metadata": {
    "collapsed": false
   },
   "outputs": [
    {
     "data": {
      "text/plain": [
       "[['15403'], ['15403', '15808'], ['15808']]"
      ]
     },
     "execution_count": 20,
     "metadata": {},
     "output_type": "execute_result"
    }
   ],
   "source": [
    "#create list to filter for\n",
    "conby=list(sub['connected_by_schools'].unique())\n",
    "conby"
   ]
  },
  {
   "cell_type": "code",
   "execution_count": 21,
   "metadata": {
    "collapsed": false
   },
   "outputs": [
    {
     "data": {
      "text/html": [
       "<div style=\"max-height:1000px;max-width:1500px;overflow:auto;\"><table frame=\"box\" rules=\"cols\">\n",
       "    <tr>\n",
       "        <th style=\"padding-left: 1em; padding-right: 1em; text-align: center\">inst_id</th>\n",
       "        <th style=\"padding-left: 1em; padding-right: 1em; text-align: center\">inst_name</th>\n",
       "    </tr>\n",
       "    <tr>\n",
       "        <td style=\"padding-left: 1em; padding-right: 1em; text-align: center; vertical-align: top\">15403</td>\n",
       "        <td style=\"padding-left: 1em; padding-right: 1em; text-align: center; vertical-align: top\">princeton university</td>\n",
       "    </tr>\n",
       "</table>\n",
       "[1 rows x 2 columns]<br/>\n",
       "</div>"
      ],
      "text/plain": [
       "Columns:\n",
       "\tinst_id\tint\n",
       "\tinst_name\tstr\n",
       "\n",
       "Rows: 1\n",
       "\n",
       "Data:\n",
       "+---------+----------------------+\n",
       "| inst_id |      inst_name       |\n",
       "+---------+----------------------+\n",
       "|  15403  | princeton university |\n",
       "+---------+----------------------+\n",
       "[1 rows x 2 columns]"
      ]
     },
     "execution_count": 21,
     "metadata": {},
     "output_type": "execute_result"
    }
   ],
   "source": [
    "#schools vc is connected by\n",
    "uni.filter_by(15403,'inst_id')"
   ]
  },
  {
   "cell_type": "code",
   "execution_count": 22,
   "metadata": {
    "collapsed": false
   },
   "outputs": [
    {
     "data": {
      "text/html": [
       "<div style=\"max-height:1000px;max-width:1500px;overflow:auto;\"><table frame=\"box\" rules=\"cols\">\n",
       "    <tr>\n",
       "        <th style=\"padding-left: 1em; padding-right: 1em; text-align: center\">inst_id</th>\n",
       "        <th style=\"padding-left: 1em; padding-right: 1em; text-align: center\">inst_name</th>\n",
       "    </tr>\n",
       "    <tr>\n",
       "        <td style=\"padding-left: 1em; padding-right: 1em; text-align: center; vertical-align: top\">15808</td>\n",
       "        <td style=\"padding-left: 1em; padding-right: 1em; text-align: center; vertical-align: top\">stanford university</td>\n",
       "    </tr>\n",
       "</table>\n",
       "[1 rows x 2 columns]<br/>\n",
       "</div>"
      ],
      "text/plain": [
       "Columns:\n",
       "\tinst_id\tint\n",
       "\tinst_name\tstr\n",
       "\n",
       "Rows: 1\n",
       "\n",
       "Data:\n",
       "+---------+---------------------+\n",
       "| inst_id |      inst_name      |\n",
       "+---------+---------------------+\n",
       "|  15808  | stanford university |\n",
       "+---------+---------------------+\n",
       "[1 rows x 2 columns]"
      ]
     },
     "execution_count": 22,
     "metadata": {},
     "output_type": "execute_result"
    }
   ],
   "source": [
    "#schools vc is connected by\n",
    "uni.filter_by(15808,'inst_id')"
   ]
  },
  {
   "cell_type": "code",
   "execution_count": 23,
   "metadata": {
    "collapsed": true
   },
   "outputs": [],
   "source": [
    "#create function to create tuple to connect vc and founders through education\n",
    "def ed(vc, inst_code):\n",
    "    arr=[]\n",
    "    fff=sub.filter_by(inst_code, 'connected_by_schools')\n",
    "    for ff in list(fff['founder_ids'].unique()):\n",
    "        arr.append((vc,ff))\n",
    "    return arr"
   ]
  },
  {
   "cell_type": "code",
   "execution_count": 24,
   "metadata": {
    "collapsed": false
   },
   "outputs": [],
   "source": [
    "#code to connect based on either princeton, stanford, both\n",
    "#princeton\n",
    "plt.clf()\n",
    "G.add_edges_from(ed('p:57950',[['15403']]))\n",
    "nx.draw(G)\n",
    "plt.savefig(\"princeton.png\")"
   ]
  },
  {
   "cell_type": "markdown",
   "metadata": {},
   "source": [
    "### Graph of Princeton\n",
    "\n",
    "<img src=\"princeton.png\" alt=\"princ\" style=\"width:600px;height:400px;\">\n",
    "\n",
    "The VC is connected to five princeton alum at companies."
   ]
  },
  {
   "cell_type": "code",
   "execution_count": 25,
   "metadata": {
    "collapsed": true
   },
   "outputs": [],
   "source": [
    "#code to connect based on either princeton, stanford, both\n",
    "#stanford\n",
    "plt.clf()\n",
    "G.add_edges_from(ed('p:57950',[['15808']]))\n",
    "nx.draw(G)\n",
    "plt.savefig(\"stanford.png\")"
   ]
  },
  {
   "cell_type": "markdown",
   "metadata": {},
   "source": [
    "### Graph of Stanford\n",
    "\n",
    "<img src=\"stanford.png\" alt=\"stan\" style=\"width:600px;height:400px;\">\n",
    "\n",
    "The VC is connected to a lot more people through his Stanford network."
   ]
  },
  {
   "cell_type": "code",
   "execution_count": 30,
   "metadata": {
    "collapsed": true
   },
   "outputs": [],
   "source": [
    "#Code to construct the graph differently (all code here is commented out) \n",
    "#plt.clf()\n",
    "#limits=plt.axis('off') \n",
    "\n",
    "#pos = nx.spring_layout(G)\n",
    "#nx.draw_networkx(G, pos=pos, nodelist=list(sub['vc_ids'].unique()), node_size=1000, node_color='#A0CBE2', font_size=0, width=2)"
   ]
  },
  {
   "cell_type": "code",
   "execution_count": 31,
   "metadata": {
    "collapsed": true
   },
   "outputs": [],
   "source": [
    "#plt.show()"
   ]
  },
  {
   "cell_type": "markdown",
   "metadata": {},
   "source": [
    "# Conclusion\n",
    "\n",
    "Honestly, there are hundreds of other things to do to take this analysis/exploration further. Then first would be doing EDA on the entire sample and then building the entire graph and and examining it. \n",
    "\n",
    "Anyway, this notebook's purpose is just to help get you started. Happy exploring. "
   ]
  }
 ],
 "metadata": {
  "kernelspec": {
   "display_name": "Python 2",
   "language": "python",
   "name": "python2"
  },
  "language_info": {
   "codemirror_mode": {
    "name": "ipython",
    "version": 2
   },
   "file_extension": ".py",
   "mimetype": "text/x-python",
   "name": "python",
   "nbconvert_exporter": "python",
   "pygments_lexer": "ipython2",
   "version": "2.7.11"
  }
 },
 "nbformat": 4,
 "nbformat_minor": 0
}
